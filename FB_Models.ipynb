{
 "cells": [
  {
   "cell_type": "markdown",
   "metadata": {
    "colab_type": "text",
    "id": "naWvqMEMHglO"
   },
   "source": [
    "<p style=\"font-size:32px;text-align:center\"> <b>Social network Graph Link Prediction - Facebook Challenge</b> </p>"
   ]
  },
  {
   "cell_type": "code",
   "execution_count": 1,
   "metadata": {
    "colab": {},
    "colab_type": "code",
    "id": "9wb9N5RzHglP"
   },
   "outputs": [],
   "source": [
    "#Importing Libraries\n",
    "# please do go through this python notebook: \n",
    "import warnings\n",
    "warnings.filterwarnings(\"ignore\")\n",
    "\n",
    "import csv\n",
    "import pandas as pd#pandas to create small dataframes \n",
    "import datetime #Convert to unix time\n",
    "import time #Convert to unix time\n",
    "# if numpy is not installed already : pip3 install numpy\n",
    "import numpy as np#Do aritmetic operations on arrays\n",
    "# matplotlib: used to plot graphs\n",
    "import matplotlib\n",
    "import matplotlib.pylab as plt\n",
    "import seaborn as sns#Plots\n",
    "from matplotlib import rcParams#Size of plots  \n",
    "from sklearn.cluster import MiniBatchKMeans, KMeans#Clustering\n",
    "import math\n",
    "import pickle\n",
    "import os\n",
    "# to install xgboost: pip3 install xgboost\n",
    "import xgboost as xgb\n",
    "\n",
    "import warnings\n",
    "import networkx as nx\n",
    "import pdb\n",
    "import pickle\n",
    "from pandas import HDFStore,DataFrame\n",
    "from pandas import read_hdf\n",
    "from scipy.sparse.linalg import svds, eigs\n",
    "import gc\n",
    "from tqdm import tqdm\n",
    "from sklearn.ensemble import RandomForestClassifier\n",
    "from sklearn.metrics import f1_score"
   ]
  },
  {
   "cell_type": "code",
   "execution_count": 2,
   "metadata": {
    "colab": {},
    "colab_type": "code",
    "id": "XC4OJFKkHglU"
   },
   "outputs": [],
   "source": [
    "#reading\n",
    "from pandas import read_hdf\n",
    "df_final_train = read_hdf('data/fea_sample/storage_sample_stage5.h5', 'train_df',mode='r')\n",
    "df_final_test = read_hdf('data/fea_sample/storage_sample_stage5.h5', 'test_df',mode='r')"
   ]
  },
  {
   "cell_type": "code",
   "execution_count": 3,
   "metadata": {
    "colab": {},
    "colab_type": "code",
    "id": "5Gm-BHRkHglW",
    "outputId": "d2c2294c-113e-4fdb-d3e5-dc167dcf5fbc"
   },
   "outputs": [
    {
     "data": {
      "text/plain": [
       "Index(['source_node', 'destination_node', 'indicator_link',\n",
       "       'jaccard_followers', 'jaccard_followees', 'cosine_followers',\n",
       "       'cosine_followees', 'num_followers_s', 'num_followees_s',\n",
       "       'num_followees_d', 'inter_followers', 'inter_followees', 'adar_index',\n",
       "       'follows_back', 'same_comp', 'shortest_path', 'weight_in', 'weight_out',\n",
       "       'weight_f1', 'weight_f2', 'weight_f3', 'weight_f4', 'page_rank_s',\n",
       "       'page_rank_d', 'katz_s', 'katz_d', 'hubs_s', 'hubs_d', 'authorities_s',\n",
       "       'authorities_d', 'preferential_followers', 'preferential_followee',\n",
       "       'svd_u_s_1', 'svd_u_s_2', 'svd_u_s_3', 'svd_u_s_4', 'svd_u_s_5',\n",
       "       'svd_u_s_6', 'svd_u_d_1', 'svd_u_d_2', 'svd_u_d_3', 'svd_u_d_4',\n",
       "       'svd_u_d_5', 'svd_u_d_6', 'svd_v_s_1', 'svd_v_s_2', 'svd_v_s_3',\n",
       "       'svd_v_s_4', 'svd_v_s_5', 'svd_v_s_6', 'svd_v_d_1', 'svd_v_d_2',\n",
       "       'svd_v_d_3', 'svd_v_d_4', 'svd_v_d_5', 'svd_v_d_6', 'svd_dot_u',\n",
       "       'svd_dot_v'],\n",
       "      dtype='object')"
      ]
     },
     "execution_count": 3,
     "metadata": {},
     "output_type": "execute_result"
    }
   ],
   "source": [
    "df_final_train.columns"
   ]
  },
  {
   "cell_type": "code",
   "execution_count": 4,
   "metadata": {
    "colab": {},
    "colab_type": "code",
    "id": "XRW7VZ4AHglc"
   },
   "outputs": [],
   "source": [
    "y_train = df_final_train.indicator_link\n",
    "y_test = df_final_test.indicator_link"
   ]
  },
  {
   "cell_type": "code",
   "execution_count": 5,
   "metadata": {
    "colab": {},
    "colab_type": "code",
    "id": "4lj9M_qtHglf"
   },
   "outputs": [],
   "source": [
    "df_final_train.drop(['source_node', 'destination_node','indicator_link'],axis=1,inplace=True)\n",
    "df_final_test.drop(['source_node', 'destination_node','indicator_link'],axis=1,inplace=True)"
   ]
  },
  {
   "cell_type": "code",
   "execution_count": 6,
   "metadata": {
    "colab": {},
    "colab_type": "code",
    "id": "lIEc91uVHgli",
    "outputId": "31f04b72-ebe5-4b13-ccca-a5ae3bc4f09c"
   },
   "outputs": [
    {
     "name": "stdout",
     "output_type": "stream",
     "text": [
      "Fitting 10 folds for each of 10 candidates, totalling 100 fits\n"
     ]
    },
    {
     "name": "stderr",
     "output_type": "stream",
     "text": [
      "[Parallel(n_jobs=-1)]: Using backend LokyBackend with 4 concurrent workers.\n",
      "[Parallel(n_jobs=-1)]: Done   1 tasks      | elapsed:  6.1min\n",
      "[Parallel(n_jobs=-1)]: Done   2 tasks      | elapsed:  6.1min\n",
      "[Parallel(n_jobs=-1)]: Done   3 tasks      | elapsed:  6.1min\n",
      "[Parallel(n_jobs=-1)]: Done   4 tasks      | elapsed:  6.1min\n",
      "[Parallel(n_jobs=-1)]: Done   5 tasks      | elapsed: 12.1min\n",
      "[Parallel(n_jobs=-1)]: Done   6 tasks      | elapsed: 12.1min\n",
      "[Parallel(n_jobs=-1)]: Done   7 tasks      | elapsed: 12.1min\n",
      "[Parallel(n_jobs=-1)]: Done   8 tasks      | elapsed: 12.1min\n",
      "[Parallel(n_jobs=-1)]: Done   9 tasks      | elapsed: 17.7min\n",
      "[Parallel(n_jobs=-1)]: Done  10 tasks      | elapsed: 17.8min\n",
      "[Parallel(n_jobs=-1)]: Done  11 tasks      | elapsed: 18.1min\n",
      "[Parallel(n_jobs=-1)]: Done  12 tasks      | elapsed: 18.1min\n",
      "[Parallel(n_jobs=-1)]: Done  13 tasks      | elapsed: 23.1min\n",
      "[Parallel(n_jobs=-1)]: Done  14 tasks      | elapsed: 23.2min\n",
      "[Parallel(n_jobs=-1)]: Done  15 tasks      | elapsed: 23.5min\n",
      "[Parallel(n_jobs=-1)]: Done  16 tasks      | elapsed: 23.5min\n",
      "[Parallel(n_jobs=-1)]: Done  17 tasks      | elapsed: 28.5min\n",
      "[Parallel(n_jobs=-1)]: Done  18 tasks      | elapsed: 28.7min\n",
      "[Parallel(n_jobs=-1)]: Done  19 tasks      | elapsed: 29.0min\n",
      "[Parallel(n_jobs=-1)]: Done  20 tasks      | elapsed: 29.0min\n",
      "[Parallel(n_jobs=-1)]: Done  21 tasks      | elapsed: 33.4min\n",
      "[Parallel(n_jobs=-1)]: Done  22 tasks      | elapsed: 33.6min\n",
      "[Parallel(n_jobs=-1)]: Done  23 tasks      | elapsed: 33.8min\n",
      "[Parallel(n_jobs=-1)]: Done  24 tasks      | elapsed: 33.9min\n",
      "[Parallel(n_jobs=-1)]: Done  25 tasks      | elapsed: 38.4min\n",
      "[Parallel(n_jobs=-1)]: Done  26 tasks      | elapsed: 38.5min\n",
      "[Parallel(n_jobs=-1)]: Done  27 tasks      | elapsed: 38.7min\n",
      "[Parallel(n_jobs=-1)]: Done  28 tasks      | elapsed: 38.8min\n",
      "[Parallel(n_jobs=-1)]: Done  29 tasks      | elapsed: 43.3min\n",
      "[Parallel(n_jobs=-1)]: Done  30 tasks      | elapsed: 43.5min\n",
      "[Parallel(n_jobs=-1)]: Done  31 tasks      | elapsed: 45.5min\n",
      "[Parallel(n_jobs=-1)]: Done  32 tasks      | elapsed: 45.7min\n",
      "[Parallel(n_jobs=-1)]: Done  33 tasks      | elapsed: 50.0min\n",
      "[Parallel(n_jobs=-1)]: Done  34 tasks      | elapsed: 50.3min\n",
      "[Parallel(n_jobs=-1)]: Done  35 tasks      | elapsed: 52.1min\n",
      "[Parallel(n_jobs=-1)]: Done  36 tasks      | elapsed: 52.3min\n",
      "[Parallel(n_jobs=-1)]: Done  37 tasks      | elapsed: 57.1min\n",
      "[Parallel(n_jobs=-1)]: Done  38 tasks      | elapsed: 57.4min\n",
      "[Parallel(n_jobs=-1)]: Done  39 tasks      | elapsed: 59.2min\n",
      "[Parallel(n_jobs=-1)]: Done  40 tasks      | elapsed: 59.5min\n",
      "[Parallel(n_jobs=-1)]: Done  41 tasks      | elapsed: 62.9min\n",
      "[Parallel(n_jobs=-1)]: Done  42 tasks      | elapsed: 63.3min\n",
      "[Parallel(n_jobs=-1)]: Done  43 tasks      | elapsed: 66.2min\n",
      "[Parallel(n_jobs=-1)]: Done  44 tasks      | elapsed: 67.9min\n",
      "[Parallel(n_jobs=-1)]: Done  45 tasks      | elapsed: 86.1min\n",
      "[Parallel(n_jobs=-1)]: Done  46 tasks      | elapsed: 87.6min\n",
      "[Parallel(n_jobs=-1)]: Done  47 tasks      | elapsed: 95.2min\n",
      "[Parallel(n_jobs=-1)]: Done  48 tasks      | elapsed: 96.5min\n",
      "[Parallel(n_jobs=-1)]: Done  49 tasks      | elapsed: 110.6min\n",
      "[Parallel(n_jobs=-1)]: Done  50 tasks      | elapsed: 112.2min\n",
      "[Parallel(n_jobs=-1)]: Done  51 tasks      | elapsed: 122.2min\n",
      "[Parallel(n_jobs=-1)]: Done  52 tasks      | elapsed: 123.7min\n",
      "[Parallel(n_jobs=-1)]: Done  53 tasks      | elapsed: 142.0min\n",
      "[Parallel(n_jobs=-1)]: Done  54 tasks      | elapsed: 144.7min\n",
      "[Parallel(n_jobs=-1)]: Done  55 tasks      | elapsed: 164.1min\n",
      "[Parallel(n_jobs=-1)]: Done  56 tasks      | elapsed: 167.1min\n",
      "[Parallel(n_jobs=-1)]: Done  57 tasks      | elapsed: 172.9min\n",
      "[Parallel(n_jobs=-1)]: Done  58 tasks      | elapsed: 173.2min\n",
      "[Parallel(n_jobs=-1)]: Done  59 tasks      | elapsed: 174.5min\n",
      "[Parallel(n_jobs=-1)]: Done  60 tasks      | elapsed: 174.7min\n",
      "[Parallel(n_jobs=-1)]: Done  61 tasks      | elapsed: 211.5min\n",
      "[Parallel(n_jobs=-1)]: Done  62 tasks      | elapsed: 211.9min\n",
      "[Parallel(n_jobs=-1)]: Done  63 tasks      | elapsed: 213.3min\n",
      "[Parallel(n_jobs=-1)]: Done  64 tasks      | elapsed: 213.6min\n",
      "[Parallel(n_jobs=-1)]: Done  65 tasks      | elapsed: 214.8min\n",
      "[Parallel(n_jobs=-1)]: Done  66 tasks      | elapsed: 215.1min\n",
      "[Parallel(n_jobs=-1)]: Done  67 tasks      | elapsed: 217.0min\n",
      "[Parallel(n_jobs=-1)]: Done  68 tasks      | elapsed: 217.4min\n",
      "[Parallel(n_jobs=-1)]: Done  69 tasks      | elapsed: 218.7min\n",
      "[Parallel(n_jobs=-1)]: Done  70 tasks      | elapsed: 219.0min\n",
      "[Parallel(n_jobs=-1)]: Done  71 tasks      | elapsed: 220.5min\n",
      "[Parallel(n_jobs=-1)]: Done  72 tasks      | elapsed: 220.9min\n",
      "[Parallel(n_jobs=-1)]: Done  73 tasks      | elapsed: 222.1min\n",
      "[Parallel(n_jobs=-1)]: Done  74 tasks      | elapsed: 222.5min\n",
      "[Parallel(n_jobs=-1)]: Done  75 tasks      | elapsed: 224.2min\n",
      "[Parallel(n_jobs=-1)]: Done  76 tasks      | elapsed: 224.6min\n",
      "[Parallel(n_jobs=-1)]: Done  77 tasks      | elapsed: 226.0min\n",
      "[Parallel(n_jobs=-1)]: Done  78 tasks      | elapsed: 226.6min\n",
      "[Parallel(n_jobs=-1)]: Done  79 tasks      | elapsed: 228.5min\n",
      "[Parallel(n_jobs=-1)]: Done  80 tasks      | elapsed: 229.0min\n",
      "[Parallel(n_jobs=-1)]: Done  81 tasks      | elapsed: 231.1min\n",
      "[Parallel(n_jobs=-1)]: Done  82 tasks      | elapsed: 231.5min\n",
      "[Parallel(n_jobs=-1)]: Done  83 tasks      | elapsed: 233.3min\n",
      "[Parallel(n_jobs=-1)]: Done  84 tasks      | elapsed: 233.8min\n",
      "[Parallel(n_jobs=-1)]: Done  85 tasks      | elapsed: 235.9min\n",
      "[Parallel(n_jobs=-1)]: Done  86 tasks      | elapsed: 236.3min\n",
      "[Parallel(n_jobs=-1)]: Done  87 tasks      | elapsed: 238.2min\n",
      "[Parallel(n_jobs=-1)]: Done  88 tasks      | elapsed: 238.8min\n",
      "[Parallel(n_jobs=-1)]: Done  89 tasks      | elapsed: 240.8min\n",
      "[Parallel(n_jobs=-1)]: Done  90 tasks      | elapsed: 241.4min\n",
      "[Parallel(n_jobs=-1)]: Done  91 tasks      | elapsed: 243.4min\n",
      "[Parallel(n_jobs=-1)]: Done  92 tasks      | elapsed: 244.0min\n",
      "[Parallel(n_jobs=-1)]: Done  93 tasks      | elapsed: 246.1min\n",
      "[Parallel(n_jobs=-1)]: Done 100 out of 100 | elapsed: 252.7min finished\n"
     ]
    },
    {
     "data": {
      "text/plain": [
       "({'max_depth': 14,\n",
       "  'min_samples_leaf': 32,\n",
       "  'min_samples_split': 162,\n",
       "  'n_estimators': 111},\n",
       " 0.9749475494495659)"
      ]
     },
     "execution_count": 6,
     "metadata": {},
     "output_type": "execute_result"
    }
   ],
   "source": [
    "from sklearn.metrics import f1_score\n",
    "from sklearn.model_selection import RandomizedSearchCV\n",
    "from scipy.stats import randint as sp_randint\n",
    "from scipy.stats import uniform\n",
    "\n",
    "param_dist = {\"n_estimators\":sp_randint(105,125),\n",
    "              \"max_depth\": sp_randint(10,15),\n",
    "              \"min_samples_split\": sp_randint(110,190),\n",
    "              \"min_samples_leaf\": sp_randint(25,65)}\n",
    "\n",
    "estimator1 = xgb.XGBRFClassifier(objective= 'binary:logistic',\n",
    "eval_metric= 'auc',scale_pos_weight = 1,random_state=123)\n",
    "\n",
    "Rsearch1= RandomizedSearchCV(estimator1,param_distributions=param_dist,scoring='f1',n_jobs=-1,iid=False, cv=10,verbose=20,random_state=123)\n",
    "\n",
    "Rsearch1.fit(df_final_train,y_train)\n",
    "\n",
    "Rsearch1.best_params_, Rsearch1.best_score_"
   ]
  },
  {
   "cell_type": "code",
   "execution_count": 9,
   "metadata": {},
   "outputs": [
    {
     "name": "stdout",
     "output_type": "stream",
     "text": [
      "CV scores {'mean_fit_time': array([ 361.04150612,  328.09393704,  294.88804049,  412.23543234,\n",
      "       1085.78301475, 1682.80843396, 1060.22566819,  227.5500165 ,\n",
      "        294.28732769,  284.4111546 ]), 'std_fit_time': array([   2.07277761,    5.83773985,    2.97909992,   12.5289976 ,\n",
      "        567.96512413,  657.6843855 , 1033.13802748,   21.08867587,\n",
      "          7.76833919,   28.29952222]), 'mean_score_time': array([0.32787554, 0.29756455, 0.2613236 , 0.38136878, 1.43576951,\n",
      "       1.25932388, 0.21199448, 0.21598737, 0.27206993, 0.24295423]), 'std_score_time': array([0.03734219, 0.01574592, 0.02093322, 0.03062442, 0.71392273,\n",
      "       0.92689331, 0.06719942, 0.03941758, 0.04094229, 0.05120621]), 'param_max_depth': masked_array(data=[12, 12, 10, 14, 13, 14, 11, 11, 12, 12],\n",
      "             mask=[False, False, False, False, False, False, False, False,\n",
      "                   False, False],\n",
      "       fill_value='?',\n",
      "            dtype=object), 'param_min_samples_leaf': masked_array(data=[53, 47, 57, 57, 27, 32, 46, 37, 30, 35],\n",
      "             mask=[False, False, False, False, False, False, False, False,\n",
      "                   False, False],\n",
      "       fill_value='?',\n",
      "            dtype=object), 'param_min_samples_split': masked_array(data=[127, 157, 135, 178, 149, 162, 137, 150, 174, 132],\n",
      "             mask=[False, False, False, False, False, False, False, False,\n",
      "                   False, False],\n",
      "       fill_value='?',\n",
      "            dtype=object), 'param_n_estimators': masked_array(data=[124, 114, 124, 122, 107, 111, 107, 108, 116, 118],\n",
      "             mask=[False, False, False, False, False, False, False, False,\n",
      "                   False, False],\n",
      "       fill_value='?',\n",
      "            dtype=object), 'params': [{'max_depth': 12, 'min_samples_leaf': 53, 'min_samples_split': 127, 'n_estimators': 124}, {'max_depth': 12, 'min_samples_leaf': 47, 'min_samples_split': 157, 'n_estimators': 114}, {'max_depth': 10, 'min_samples_leaf': 57, 'min_samples_split': 135, 'n_estimators': 124}, {'max_depth': 14, 'min_samples_leaf': 57, 'min_samples_split': 178, 'n_estimators': 122}, {'max_depth': 13, 'min_samples_leaf': 27, 'min_samples_split': 149, 'n_estimators': 107}, {'max_depth': 14, 'min_samples_leaf': 32, 'min_samples_split': 162, 'n_estimators': 111}, {'max_depth': 11, 'min_samples_leaf': 46, 'min_samples_split': 137, 'n_estimators': 107}, {'max_depth': 11, 'min_samples_leaf': 37, 'min_samples_split': 150, 'n_estimators': 108}, {'max_depth': 12, 'min_samples_leaf': 30, 'min_samples_split': 174, 'n_estimators': 116}, {'max_depth': 12, 'min_samples_leaf': 35, 'min_samples_split': 132, 'n_estimators': 118}], 'split0_test_score': array([0.97339403, 0.97349788, 0.97139959, 0.97362837, 0.97322421,\n",
      "       0.97343166, 0.972869  , 0.97277052, 0.97370018, 0.9736017 ]), 'split1_test_score': array([0.97361237, 0.9737055 , 0.97252357, 0.97504294, 0.97453517,\n",
      "       0.97524502, 0.97398522, 0.97379338, 0.97380928, 0.97371082]), 'split2_test_score': array([0.97632537, 0.97642416, 0.97443701, 0.97674889, 0.97673478,\n",
      "       0.97664544, 0.97579747, 0.97559494, 0.97632058, 0.97632058]), 'split3_test_score': array([0.9750631 , 0.97505806, 0.97491402, 0.97579669, 0.97527999,\n",
      "       0.97589511, 0.97463878, 0.97463878, 0.9750631 , 0.97526502]), 'split4_test_score': array([0.97460285, 0.97460285, 0.9733509 , 0.97521999, 0.97552094,\n",
      "       0.9754173 , 0.97396941, 0.97396941, 0.97449909, 0.97449909]), 'split5_test_score': array([0.97137056, 0.97137056, 0.96962308, 0.97272082, 0.97210104,\n",
      "       0.97261663, 0.9710513 , 0.9711558 , 0.97137056, 0.97137056]), 'split6_test_score': array([0.97613751, 0.97602913, 0.97428109, 0.97676768, 0.97656566,\n",
      "       0.97697435, 0.97540735, 0.97530864, 0.97593042, 0.97603398]), 'split7_test_score': array([0.97527862, 0.97548126, 0.97329136, 0.97538742, 0.9755801 ,\n",
      "       0.97569374, 0.9745307 , 0.97463474, 0.97548126, 0.97528363]), 'split8_test_score': array([0.97431749, 0.97411527, 0.97284151, 0.9748561 , 0.97473216,\n",
      "       0.97515152, 0.97358567, 0.97368954, 0.97411527, 0.97421377]), 'split9_test_score': array([0.97205346, 0.97226159, 0.9698569 , 0.97229525, 0.97236003,\n",
      "       0.97240473, 0.97142278, 0.97142278, 0.97226159, 0.97205912]), 'mean_test_score': array([0.97421554, 0.97425463, 0.9726519 , 0.97484641, 0.97466341,\n",
      "       0.97494755, 0.97372577, 0.97369785, 0.97425513, 0.97423583]), 'std_test_score': array([0.00154795, 0.00152679, 0.00174534, 0.00145585, 0.00154365,\n",
      "       0.00151635, 0.00148115, 0.00143309, 0.00148693, 0.00153075]), 'rank_test_score': array([ 7,  5, 10,  2,  3,  1,  8,  9,  4,  6])}\n"
     ]
    }
   ],
   "source": [
    "print('CV scores',Rsearch1.cv_results_)"
   ]
  },
  {
   "cell_type": "code",
   "execution_count": 10,
   "metadata": {
    "colab": {},
    "colab_type": "code",
    "id": "nZxhrTdQHglm",
    "outputId": "53382b8e-148d-4c22-8066-d9807fb27012"
   },
   "outputs": [
    {
     "name": "stdout",
     "output_type": "stream",
     "text": [
      "mean test scores [0.97421554 0.97425463 0.9726519  0.97484641 0.97466341 0.97494755\n",
      " 0.97372577 0.97369785 0.97425513 0.97423583]\n"
     ]
    }
   ],
   "source": [
    "print('mean test scores',Rsearch1.cv_results_['mean_test_score'])\n"
   ]
  },
  {
   "cell_type": "code",
   "execution_count": 11,
   "metadata": {
    "colab": {},
    "colab_type": "code",
    "id": "MrG1Lfl3Hglq",
    "outputId": "7b6e3c97-8d66-455d-cd79-213f824719cc"
   },
   "outputs": [
    {
     "name": "stdout",
     "output_type": "stream",
     "text": [
      "XGBRFClassifier(base_score=0.5, colsample_bylevel=1, colsample_bynode=0.8,\n",
      "                colsample_bytree=1, eval_metric='auc', gamma=0, learning_rate=1,\n",
      "                max_delta_step=0, max_depth=14, min_child_weight=1,\n",
      "                min_samples_leaf=32, min_samples_split=162, missing=None,\n",
      "                n_estimators=111, n_jobs=1, nthread=None,\n",
      "                objective='binary:logistic', random_state=123, reg_alpha=0,\n",
      "                reg_lambda=1, scale_pos_weight=1, seed=None, silent=None,\n",
      "                subsample=0.8, verbosity=1)\n",
      "{'max_depth': 14, 'min_samples_leaf': 32, 'min_samples_split': 162, 'n_estimators': 111}\n",
      "0.9749475494495659\n"
     ]
    }
   ],
   "source": [
    "print(Rsearch1.best_estimator_)\n",
    "print(Rsearch1.best_params_)\n",
    "print(Rsearch1.best_score_)"
   ]
  },
  {
   "cell_type": "code",
   "execution_count": 12,
   "metadata": {
    "colab": {},
    "colab_type": "code",
    "id": "hme3j_diHglu",
    "outputId": "581ccc02-7770-4a94-d003-257af4e81570"
   },
   "outputs": [],
   "source": [
    "\n",
    "\n",
    "l=Rsearch1.best_params_[\"min_samples_leaf\"]\n",
    "d=Rsearch1.best_params_['max_depth']\n",
    "s=Rsearch1.best_params_['min_samples_split']\n",
    "n=Rsearch1.best_params_['n_estimators']\n",
    "\n"
   ]
  },
  {
   "cell_type": "code",
   "execution_count": 15,
   "metadata": {
    "colab": {},
    "colab_type": "code",
    "id": "PTtAp1iTHgl4",
    "outputId": "e2e3d725-3c4d-4374-d303-8f294b570977"
   },
   "outputs": [
    {
     "data": {
      "text/plain": [
       "XGBRFClassifier(base_score=0.5, colsample_bylevel=1, colsample_bynode=0.8,\n",
       "                colsample_bytree=0.7, eval_metric='auc', gamma=0.2,\n",
       "                learning_rate=0.5, max_delta_step=0, max_depth=14,\n",
       "                min_child_weight=1, min_samples_leaf=32, min_samples_split=162,\n",
       "                missing=None, n_estimators=111, n_jobs=-1, nthread=None,\n",
       "                objective='binary:logistic', random_state=0, reg_alpha=0,\n",
       "                reg_lambda=1, scale_pos_weight=1, seed=None, silent=None,\n",
       "                subsample=0.9, verbosity=1)"
      ]
     },
     "execution_count": 15,
     "metadata": {},
     "output_type": "execute_result"
    }
   ],
   "source": [
    "final_clf = xgb.XGBRFClassifier(base_score=0.5, colsample_bylevel=1, colsample_bynode=0.8,\n",
    "        colsample_bytree=0.7, eval_metric='auc', gamma=0.2,\n",
    "        learning_rate=0.5, max_delta_step=0, max_depth=14,\n",
    "        min_child_weight=1, min_samples_leaf=32, min_samples_split=162,\n",
    "        missing=None, n_estimators=111, n_jobs=-1, nthread=None,\n",
    "        objective='binary:logistic', scale_pos_weight=1, seed=None,\n",
    "        silent=None, subsample=0.9, verbosity=1)\n",
    "\n",
    "final_clf.fit(df_final_train,y_train)"
   ]
  },
  {
   "cell_type": "code",
   "execution_count": 16,
   "metadata": {},
   "outputs": [
    {
     "name": "stdout",
     "output_type": "stream",
     "text": [
      "The train f1 score is: 0.9836847667455084\n",
      "The test f1 score is: 0.9322415644010357\n"
     ]
    }
   ],
   "source": [
    "predict_y_test_final = final_clf.predict(df_final_test)\n",
    "predict_y_train_final = final_clf.predict(df_final_train)\n",
    "\n",
    "print(\"The train f1 score is:\",f1_score(y_train,predict_y_train_final))\n",
    "print(\"The test f1 score is:\",f1_score(y_test,predict_y_test_final))"
   ]
  },
  {
   "cell_type": "code",
   "execution_count": 17,
   "metadata": {
    "colab": {},
    "colab_type": "code",
    "id": "5XfUkZYQHgl7"
   },
   "outputs": [],
   "source": [
    "from sklearn.metrics import confusion_matrix\n",
    "def plot_confusion_matrix(test_y, predict_y):\n",
    "    C = confusion_matrix(test_y, predict_y)\n",
    "    \n",
    "    A =(((C.T)/(C.sum(axis=1))).T)\n",
    "    \n",
    "    B =(C/C.sum(axis=0))\n",
    "    plt.figure(figsize=(20,4))\n",
    "    \n",
    "    labels = [0,1]\n",
    "    # representing A in heatmap format\n",
    "    cmap=sns.light_palette(\"blue\")\n",
    "    plt.subplot(1, 3, 1)\n",
    "    sns.heatmap(C, annot=True, cmap=cmap, fmt=\".3f\", xticklabels=labels, yticklabels=labels)\n",
    "    plt.xlabel('Predicted Class')\n",
    "    plt.ylabel('Original Class')\n",
    "    plt.title(\"Confusion matrix\")\n",
    "    \n",
    "    plt.subplot(1, 3, 2)\n",
    "    sns.heatmap(B, annot=True, cmap=cmap, fmt=\".3f\", xticklabels=labels, yticklabels=labels)\n",
    "    plt.xlabel('Predicted Class')\n",
    "    plt.ylabel('Original Class')\n",
    "    plt.title(\"Precision matrix\")\n",
    "    \n",
    "    plt.subplot(1, 3, 3)\n",
    "    # representing B in heatmap format\n",
    "    sns.heatmap(A, annot=True, cmap=cmap, fmt=\".3f\", xticklabels=labels, yticklabels=labels)\n",
    "    plt.xlabel('Predicted Class')\n",
    "    plt.ylabel('Original Class')\n",
    "    plt.title(\"Recall matrix\")\n",
    "    \n",
    "    plt.show()"
   ]
  },
  {
   "cell_type": "code",
   "execution_count": 19,
   "metadata": {
    "colab": {},
    "colab_type": "code",
    "id": "s6t11dhTHgl-",
    "outputId": "189de3be-1c99-4653-f56f-12b18b0f4db7"
   },
   "outputs": [
    {
     "name": "stdout",
     "output_type": "stream",
     "text": [
      "Train confusion_matrix\n"
     ]
    },
    {
     "data": {
      "image/png": "[encoded data removed]",
      "text/plain": [
       "<Figure size 1440x288 with 6 Axes>"
      ]
     },
     "metadata": {
      "needs_background": "light"
     },
     "output_type": "display_data"
    },
    {
     "name": "stdout",
     "output_type": "stream",
     "text": [
      "Test confusion_matrix\n"
     ]
    },
    {
     "data": {
      "image/png": "[encoded data removed]",
      "text/plain": [
       "<Figure size 1440x288 with 6 Axes>"
      ]
     },
     "metadata": {
      "needs_background": "light"
     },
     "output_type": "display_data"
    }
   ],
   "source": [
    "print('Train confusion_matrix')\n",
    "plot_confusion_matrix(y_train,predict_y_train_final)\n",
    "print('Test confusion_matrix')\n",
    "plot_confusion_matrix(y_test,predict_y_test_final)"
   ]
  },
  {
   "cell_type": "code",
   "execution_count": 20,
   "metadata": {
    "colab": {},
    "colab_type": "code",
    "id": "61TF-VLeHgmD",
    "outputId": "795f1b39-61c7-470f-e2d0-1fe6dc7ac5fd"
   },
   "outputs": [
    {
     "data": {
      "image/png": "[encoded data removed]",
      "text/plain": [
       "<Figure size 432x288 with 1 Axes>"
      ]
     },
     "metadata": {
      "needs_background": "light"
     },
     "output_type": "display_data"
    }
   ],
   "source": [
    "from sklearn.metrics import roc_curve, auc\n",
    "fpr,tpr,ths = roc_curve(y_test,predict_y_test_final)\n",
    "auc_sc = auc(fpr, tpr)\n",
    "plt.plot(fpr, tpr, color='navy',label='ROC curve (area = %0.2f)' % auc_sc)\n",
    "plt.xlabel('False Positive Rate')\n",
    "plt.ylabel('True Positive Rate')\n",
    "plt.title('Receiver operating characteristic with test data')\n",
    "plt.legend()\n",
    "plt.show()"
   ]
  },
  {
   "cell_type": "code",
   "execution_count": 22,
   "metadata": {
    "colab": {},
    "colab_type": "code",
    "id": "HEZ7uvN6HgmK",
    "outputId": "6f762256-54fc-4e2f-865b-22342033eb2c",
    "scrolled": false
   },
   "outputs": [
    {
     "data": {
      "image/png": "[encoded data removed]",
      "text/plain": [
       "<Figure size 720x864 with 1 Axes>"
      ]
     },
     "metadata": {
      "needs_background": "light"
     },
     "output_type": "display_data"
    }
   ],
   "source": [
    "features = df_final_train.columns\n",
    "importances = final_clf.feature_importances_\n",
    "indices = (np.argsort(importances))[-25:]\n",
    "plt.figure(figsize=(10,12))\n",
    "plt.title('Feature Importances')\n",
    "plt.barh(range(len(indices)), importances[indices], color='r', align='center')\n",
    "plt.yticks(range(len(indices)), [features[i] for i in indices])\n",
    "plt.xlabel('Relative Importance')\n",
    "plt.show()"
   ]
  }
 ],
 "metadata": {
  "colab": {
   "collapsed_sections": [],
   "name": "FB_Models.ipynb",
   "provenance": [],
   "version": "0.3.2"
  },
  "kernelspec": {
   "display_name": "Python 3",
   "language": "python",
   "name": "python3"
  },
  "language_info": {
   "codemirror_mode": {
    "name": "ipython",
    "version": 3
   },
   "file_extension": ".py",
   "mimetype": "text/x-python",
   "name": "python",
   "nbconvert_exporter": "python",
   "pygments_lexer": "ipython3",
   "version": "3.7.4"
  }
 },
 "nbformat": 4,
 "nbformat_minor": 1
}
